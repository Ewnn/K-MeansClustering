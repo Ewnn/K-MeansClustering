{
 "cells": [
  {
   "cell_type": "code",
   "execution_count": 64,
   "metadata": {},
   "outputs": [],
   "source": [
    "# libs importations\n",
    "import pandas as pd\n",
    "import numpy as np\n",
    "import matplotlib.pyplot as plt\n",
    "import seaborn as sns\n",
    "from sklearn.preprocessing import StandardScaler\n",
    "\n",
    "# link of dataset : https://www.kaggle.com/datasets/lobosi/c02-emission-by-countrys-grouth-and-population"
   ]
  },
  {
   "cell_type": "code",
   "execution_count": 65,
   "metadata": {},
   "outputs": [],
   "source": [
    "# load training dataset\n",
    "training_data = pd.read_csv('data/energy_training.csv')\n",
    "# load test dataset\n",
    "test_data = pd.read_csv('data/energy_test.csv')\n"
   ]
  },
  {
   "cell_type": "code",
   "execution_count": 66,
   "metadata": {},
   "outputs": [
    {
     "name": "stdout",
     "output_type": "stream",
     "text": [
      "training_data data shape: (44244, 11)\n",
      "test_data data shape: (11196, 11)\n"
     ]
    }
   ],
   "source": [
    "# print dataset shape\n",
    "print(f\"training_data data shape: {training_data.shape}\")\n",
    "# print dataset shape\n",
    "print(f\"test_data data shape: {test_data.shape}\")"
   ]
  },
  {
   "cell_type": "markdown",
   "metadata": {},
   "source": [
    "##### 1. Exploratory data analysis (EDA)"
   ]
  },
  {
   "cell_type": "code",
   "execution_count": 67,
   "metadata": {},
   "outputs": [
    {
     "name": "stdout",
     "output_type": "stream",
     "text": [
      "                 Id          Year  ...  Energy_intensity_by_GDP  CO2_emission\n",
      "count  44244.000000  44244.000000  ...             39744.000000  40703.000000\n",
      "mean   22121.500000   1995.462164  ...                 3.710676     72.285152\n",
      "std    12772.286992      9.212607  ...                 4.986149    813.589008\n",
      "min        0.000000   1980.000000  ...                 0.000000     -0.005130\n",
      "25%    11060.750000   1987.000000  ...                 0.000000      0.000000\n",
      "50%    22121.500000   1995.000000  ...                 2.881096      0.000000\n",
      "75%    33182.250000   2003.000000  ...                 5.043861      3.625827\n",
      "max    44243.000000   2011.000000  ...               166.913605  32519.305374\n",
      "\n",
      "[8 rows x 9 columns]\n"
     ]
    }
   ],
   "source": [
    "# Stats of training dataset\n",
    "print(training_data.describe())"
   ]
  },
  {
   "cell_type": "code",
   "execution_count": 68,
   "metadata": {},
   "outputs": [
    {
     "name": "stdout",
     "output_type": "stream",
     "text": [
      "                 Id          Year  ...  Energy_intensity_by_GDP  CO2_emission\n",
      "count  11196.000000  11196.000000  ...             10614.000000  10911.000000\n",
      "mean   49841.500000   2015.456592  ...                 3.636794    103.103737\n",
      "std     3232.151141      2.322346  ...                 2.625218   1175.024153\n",
      "min    44244.000000   2011.000000  ...                 0.000000      0.000000\n",
      "25%    47042.750000   2013.000000  ...                 1.887475      0.000000\n",
      "50%    49841.500000   2015.000000  ...                 3.307264      0.009441\n",
      "75%    52640.250000   2017.000000  ...                 4.773189      7.279814\n",
      "max    55439.000000   2019.000000  ...                19.793899  35584.933498\n",
      "\n",
      "[8 rows x 9 columns]\n"
     ]
    }
   ],
   "source": [
    "# Stats of test dataset\n",
    "print(test_data.describe())"
   ]
  },
  {
   "cell_type": "code",
   "execution_count": 70,
   "metadata": {},
   "outputs": [
    {
     "name": "stdout",
     "output_type": "stream",
     "text": [
      "Energy_consumption              9285\n",
      "Energy_production               9285\n",
      "GDP                            14076\n",
      "Population                      8106\n",
      "Energy_intensity_per_capita     4500\n",
      "Energy_intensity_by_GDP         4500\n",
      "CO2_emission                    3541\n",
      "dtype: int64\n"
     ]
    }
   ],
   "source": [
    "# missing values \n",
    "missing_values = training_data.isnull().sum()\n",
    "print(missing_values[missing_values > 0])\n"
   ]
  },
  {
   "cell_type": "code",
   "execution_count": null,
   "metadata": {},
   "outputs": [],
   "source": []
  }
 ],
 "metadata": {
  "kernelspec": {
   "display_name": "Python 3",
   "language": "python",
   "name": "python3"
  },
  "language_info": {
   "codemirror_mode": {
    "name": "ipython",
    "version": 3
   },
   "file_extension": ".py",
   "mimetype": "text/x-python",
   "name": "python",
   "nbconvert_exporter": "python",
   "pygments_lexer": "ipython3",
   "version": "3.12.7"
  }
 },
 "nbformat": 4,
 "nbformat_minor": 2
}
